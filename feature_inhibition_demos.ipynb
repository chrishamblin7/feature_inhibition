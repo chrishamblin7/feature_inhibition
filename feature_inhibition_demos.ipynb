{
  "nbformat": 4,
  "nbformat_minor": 0,
  "metadata": {
    "colab": {
      "provenance": [],
      "authorship_tag": "ABX9TyMpQJFNi0yAinQLL5aXDLh4",
      "include_colab_link": true
    },
    "kernelspec": {
      "name": "python3",
      "display_name": "Python 3"
    },
    "language_info": {
      "name": "python"
    }
  },
  "cells": [
    {
      "cell_type": "markdown",
      "metadata": {
        "id": "view-in-github",
        "colab_type": "text"
      },
      "source": [
        "<a href=\"https://colab.research.google.com/github/chrishamblin7/feature_inhibition/blob/main/feature_inhibition_demos.ipynb\" target=\"_parent\"><img src=\"https://colab.research.google.com/assets/colab-badge.svg\" alt=\"Open In Colab\"/></a>"
      ]
    },
    {
      "cell_type": "markdown",
      "source": [
        "### Install Libraries\n"
      ],
      "metadata": {
        "id": "BI6qVoCpMGdH"
      }
    },
    {
      "cell_type": "code",
      "source": [],
      "metadata": {
        "id": "eICTNIUyMLDX"
      },
      "execution_count": 1,
      "outputs": []
    },
    {
      "cell_type": "markdown",
      "source": [],
      "metadata": {
        "id": "nBCpHZghMDBM"
      }
    }
  ]
}